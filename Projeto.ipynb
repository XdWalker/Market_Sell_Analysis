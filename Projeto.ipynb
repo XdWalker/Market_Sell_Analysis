{
 "cells": [
  {
   "cell_type": "code",
   "execution_count": 150,
   "id": "249e8f5d",
   "metadata": {},
   "outputs": [],
   "source": [
    "import pandas as pd\n",
    "import numpy as np\n",
    "from datetime import datetime, timedelta\n",
    "import matplotlib.pyplot as plt\n",
    "import seaborn as sns"
   ]
  },
  {
   "cell_type": "code",
   "execution_count": 222,
   "id": "357bc8ea",
   "metadata": {
    "scrolled": true
   },
   "outputs": [],
   "source": [
    "date_cols = ['DATE_', 'STARTDATE', \"ENDDATE\"]\n",
    "\n",
    "# Setando a coluna CLIENTCODE para o tipo string, pois a mesma possuia valores misto tornando a leitura do \n",
    "# arquivo lenta já que são 600 mil linhas.\n",
    "data = pd.read_csv('MarketSales.csv', parse_dates=date_cols, dtype={'CLIENTCODE': 'str'})\n",
    "df = pd.DataFrame(data)\n",
    "\n",
    "# Tratando as colunas de datas para o tipo data para manipular as mesmas, pois por algum motivo desconhecido\n",
    "# as datas de STARTDATE e ENDDATE estão adiantadas por um dia comparado a coluna DATE, então eu subtraio \n",
    "# menos um dia de todas as datas de ENDDATE e STARTDATE e depois eu exporto a correção para um novo .csv.\n",
    "\n",
    "# Vou deixar o código que fez o tratamento das datas comentado para o senhor avaliar se quiser, pois não é \n",
    "# necessário roda-lo mais.\n",
    "            # datas = data[[\"STARTDATE\",\"ENDDATE\"]]\n",
    "            # ontem = timedelta(1)\n",
    "            # sub = datas - ontem\n",
    "\n",
    "            # data3 = data[[\"STARTDATE\", \"ENDDATE\"]] = sub\n",
    "            # data.to_csv(\"MarketSales.csv\")\n",
    "\n",
    "# Renomeando e traduzindo o nome de algumas colunas para o meu melhor entendimento.\n",
    "data.rename(columns={'AMOUNT': 'QUANTIDADE', 'BRANCHNR': 'FILIALNR', 'DATE_': 'DATE',\n",
    "'BRANCH': 'FILIAL', 'SALESMAN': 'VENDEDOR', 'BRANDCODE': 'MARCA_CODE', 'BRAND': 'MARCA'}, inplace = True)\n",
    "\n",
    "# OBSERVAÇÃO: COLUNA GENDER - E: HOMEM/HOMENS, K: MULHER/MULHERES."
   ]
  },
  {
   "cell_type": "code",
   "execution_count": 223,
   "id": "e1358235",
   "metadata": {},
   "outputs": [],
   "source": [
    "# Traduzindo algumas linhas das colunas CATEGORY_NAME1, CATEGORY_NAME2 e CATEGORY_NAME3 para o melhor\n",
    "# entendimento do dataset.\n",
    "data['CATEGORY_NAME1'] = data['CATEGORY_NAME1'].map({'GIDA':'CASA',\n",
    "                             'MEYVE SEBZE':'FRUTAS E VEGETAIS',\n",
    "                             'SÜT KAHVALTILIK':'LEITE CAFÉ DA MANHÃ',\n",
    "                             'İÇECEK':'BEBER',\n",
    "                             'DETERJAN TEMİZLİK':'DETERGENTE DE LIMPEZA',\n",
    "                             'KAĞIT':'PAPEL',\n",
    "                             'KOZMETİK':'COSMÉTICO',\n",
    "                             'SİGARA':'CIGARRO',\n",
    "                             'EV':'LAR',\n",
    "                             'BEBEK':'BEBÊ',\n",
    "                             'EV':'LAR',\n",
    "                             'PET':'PETs'})\n",
    "\n",
    "data['CATEGORY_NAME2']= data['CATEGORY_NAME2'].replace(['BÜSKİVİ ÇEREZ','SEBZE','ÇİKOLATA GOFRET',\n",
    "'ÇAY KAHVE',\n",
    "'UNLU MAMÜLLER',\n",
    "'TERLİK',\n",
    "'KEDİ MAMALARI',\n",
    "'KUŞ MAMALARI',\n",
    "'KÖPEK MAMALARI',\n",
    "'YÜZ BAKIMI',\n",
    "'MEYVE',\n",
    "'BAKLİYAT',\n",
    "'PEYNİR',\n",
    "'SÜT',\n",
    "'MAKARNA',\n",
    "'SU MADENSUYU',\n",
    "'HAZIR YEMEKLER',\n",
    "'GAZSIZ İÇECEK',\n",
    "'KAHVALTILIK',\n",
    "'TEREYAĞ MARGARİN',\n",
    "'MUTFAK EŞYA GEREÇLERİ',\n",
    "'YOĞURT',\n",
    "'YUMURTA'],['BISCOITOS','VEGETAL','BOLACHA DE CHOCOLATE',\n",
    "'CHÁ CAFÉ',\n",
    "'PRODUTOS DE CONFEITARIA',\n",
    "'CHINELO',\n",
    "'ALIMENTOS PARA GATOS',\n",
    "'ALIMENTOS PARA PÁSSAROS',\n",
    "'ALIMENTOS PARA CÃES',\n",
    "'CUIDADOS COM O ROSTO',\n",
    "'FRUTA',\n",
    "'LEGUMES',\n",
    "'QUEIJO',\n",
    "'LEITE',\n",
    "'MASSA',\n",
    "'Agua Mineral',\n",
    "'COMIDA PRONTA',\n",
    "'refrigerante',\n",
    "'CAFÉ DA MANHÃ',\n",
    "'MANTEIGA MARGARINA',\n",
    "'EQUIPAMENTO DE COZINHA',\n",
    "'IOGURTE',\n",
    "'OVOS'])\n",
    "\n",
    "data['CATEGORY_NAME3']= data['CATEGORY_NAME3'].replace(['BÜSKİVİ','AÇIK BAKLİYAT','EKMEK',\n",
    "'PASTÖRİZE SÜT',\n",
    "'MAKARNA',\n",
    "'MAKYAJ PAMUK',\n",
    "'YEŞİL ZEYTİN',\n",
    "'LOSYON VE SÜTLER',\n",
    "'LOSYON SÜTLER',\n",
    "'YÜZ TEMİZLEME ÜRÜNLERİ',\n",
    "'SU',\n",
    "'KURUYEMİŞ',\n",
    "'KEK',\n",
    "'KAHVE',\n",
    "'SEKER TATLANDIRICI',\n",
    "'ÇAY',\n",
    "'MEYVE SUYU',\n",
    "'BEYAZ PEYNİR',\n",
    "'YOĞURTLAR',\n",
    "'COLA',\n",
    "'MARGARİNLER',\n",
    "'CİPS',\n",
    "'PİLİÇ'],['BISCOITOS','VEGETAL','BOLACHA DE CHOCOLATE',\n",
    "'CHÁ CAFÉ',\n",
    "'PRODUTOS DE CONFEITARIA',\n",
    "'CHINELO',\n",
    "'ALIMENTOS PARA GATOS',\n",
    "'ALIMENTOS PARA PÁSSAROS',\n",
    "'ALIMENTOS PARA CÃES',\n",
    "'CUIDADOS COM O ROSTO',\n",
    "'FRUTA',\n",
    "'LEGUMES',\n",
    "'QUEIJO',\n",
    "'LEITE',\n",
    "'MASSA',\n",
    "'Agua Mineral',\n",
    "'COMIDA PRONTA',\n",
    "'refrigerante',\n",
    "'CAFÉ DA MANHÃ',\n",
    "'MANTEIGA MARGARINA',\n",
    "'EQUIPAMENTO DE COZINHA',\n",
    "'IOGURTE',\n",
    "'OVOS'])"
   ]
  },
  {
   "cell_type": "markdown",
   "id": "c4cf5d3e",
   "metadata": {},
   "source": [
    "# Média dos valores da coluna \"Quantidade\""
   ]
  },
  {
   "cell_type": "code",
   "execution_count": 107,
   "id": "8583d3d6",
   "metadata": {},
   "outputs": [
    {
     "data": {
      "text/plain": [
       "1.27020400519058"
      ]
     },
     "execution_count": 107,
     "metadata": {},
     "output_type": "execute_result"
    }
   ],
   "source": [
    "media_quantidade = df['QUANTIDADE'].mean()\n",
    "media_quantidade"
   ]
  },
  {
   "cell_type": "markdown",
   "id": "868b4483",
   "metadata": {},
   "source": [
    "# Mediana dos valores da coluna \"Quantidade\""
   ]
  },
  {
   "cell_type": "code",
   "execution_count": 108,
   "id": "4945d273",
   "metadata": {},
   "outputs": [
    {
     "data": {
      "text/plain": [
       "1.0"
      ]
     },
     "execution_count": 108,
     "metadata": {},
     "output_type": "execute_result"
    }
   ],
   "source": [
    "mediana_quantidade = df['QUANTIDADE'].median()\n",
    "mediana_quantidade"
   ]
  },
  {
   "cell_type": "markdown",
   "id": "205ca6bc",
   "metadata": {},
   "source": [
    "# Moda dos valores da coluna \"Quantidade\""
   ]
  },
  {
   "cell_type": "code",
   "execution_count": 109,
   "id": "cbbe7145",
   "metadata": {},
   "outputs": [
    {
     "data": {
      "text/plain": [
       "0    1.0\n",
       "Name: QUANTIDADE, dtype: float64"
      ]
     },
     "execution_count": 109,
     "metadata": {},
     "output_type": "execute_result"
    }
   ],
   "source": [
    "moda_quantidade = df['QUANTIDADE'].mode()\n",
    "moda_quantidade"
   ]
  },
  {
   "cell_type": "markdown",
   "id": "efb132fb",
   "metadata": {},
   "source": [
    "# Variância dos valores da coluna \"Quantidade\""
   ]
  },
  {
   "cell_type": "code",
   "execution_count": 110,
   "id": "ac1dfb42",
   "metadata": {},
   "outputs": [
    {
     "data": {
      "text/plain": [
       "3.9812202739321867"
      ]
     },
     "execution_count": 110,
     "metadata": {},
     "output_type": "execute_result"
    }
   ],
   "source": [
    "quantidade_coluna = data['QUANTIDADE']\n",
    "variancia_quantidade = np.var(quantidade_coluna)\n",
    "variancia_quantidade"
   ]
  },
  {
   "cell_type": "markdown",
   "id": "21c632c8",
   "metadata": {},
   "source": [
    "# Desvio Padrão dos valores da coluna \"Quantidade\""
   ]
  },
  {
   "cell_type": "code",
   "execution_count": 111,
   "id": "a0f93dfd",
   "metadata": {},
   "outputs": [
    {
     "data": {
      "text/plain": [
       "1.9953011774443372"
      ]
     },
     "execution_count": 111,
     "metadata": {},
     "output_type": "execute_result"
    }
   ],
   "source": [
    "desvio_padrao_quantidade = quantidade_coluna.std()\n",
    "desvio_padrao_quantidade"
   ]
  },
  {
   "cell_type": "markdown",
   "id": "39c3e067",
   "metadata": {},
   "source": [
    "# Gráfico Boxplot da coluna \"Quantidade\""
   ]
  },
  {
   "cell_type": "code",
   "execution_count": 154,
   "id": "669194b8",
   "metadata": {},
   "outputs": [
    {
     "data": {
      "image/png": "[encoded data removed]",
      "text/plain": [
       "<Figure size 640x480 with 1 Axes>"
      ]
     },
     "metadata": {},
     "output_type": "display_data"
    }
   ],
   "source": [
    "boxplot_quantidade = df.boxplot(column =['QUANTIDADE'])\n",
    "plt.show()"
   ]
  },
  {
   "cell_type": "markdown",
   "id": "792147f5",
   "metadata": {},
   "source": [
    "# Média dos valores da coluna \"PRICE\""
   ]
  },
  {
   "cell_type": "code",
   "execution_count": 277,
   "id": "3599c3aa",
   "metadata": {},
   "outputs": [
    {
     "data": {
      "text/plain": [
       "3.959574264408688"
      ]
     },
     "execution_count": 277,
     "metadata": {},
     "output_type": "execute_result"
    }
   ],
   "source": [
    "media_price = df['PRICE'].mean()\n",
    "media_price"
   ]
  },
  {
   "cell_type": "markdown",
   "id": "eb0f7c05",
   "metadata": {},
   "source": [
    "# Mediana dos valores da coluna \"PRICE\""
   ]
  },
  {
   "cell_type": "code",
   "execution_count": 278,
   "id": "dc6d729d",
   "metadata": {},
   "outputs": [
    {
     "data": {
      "text/plain": [
       "2.3"
      ]
     },
     "execution_count": 278,
     "metadata": {},
     "output_type": "execute_result"
    }
   ],
   "source": [
    "mediana_price = df['PRICE'].median()\n",
    "mediana_price"
   ]
  },
  {
   "cell_type": "markdown",
   "id": "79045885",
   "metadata": {},
   "source": [
    "# Moda dos valores da coluna \"PRICE\""
   ]
  },
  {
   "cell_type": "code",
   "execution_count": 279,
   "id": "d50dca8e",
   "metadata": {},
   "outputs": [
    {
     "data": {
      "text/plain": [
       "0    1.0\n",
       "Name: PRICE, dtype: float64"
      ]
     },
     "execution_count": 279,
     "metadata": {},
     "output_type": "execute_result"
    }
   ],
   "source": [
    "moda_price = df['PRICE'].mode()\n",
    "moda_price"
   ]
  },
  {
   "cell_type": "markdown",
   "id": "7f639387",
   "metadata": {},
   "source": [
    "# Variância dos valores da coluna \"PRICE\""
   ]
  },
  {
   "cell_type": "code",
   "execution_count": 280,
   "id": "b6811eaf",
   "metadata": {},
   "outputs": [
    {
     "data": {
      "text/plain": [
       "44.663701965345446"
      ]
     },
     "execution_count": 280,
     "metadata": {},
     "output_type": "execute_result"
    }
   ],
   "source": [
    "price_coluna = data['PRICE']\n",
    "variancia_price = np.var(price_coluna)\n",
    "variancia_price"
   ]
  },
  {
   "cell_type": "markdown",
   "id": "fa65820f",
   "metadata": {},
   "source": [
    "# Desvio Padrão dos valores da coluna \"PRICE\""
   ]
  },
  {
   "cell_type": "code",
   "execution_count": 281,
   "id": "317b5c15",
   "metadata": {},
   "outputs": [
    {
     "data": {
      "text/plain": [
       "6.683096217473939"
      ]
     },
     "execution_count": 281,
     "metadata": {},
     "output_type": "execute_result"
    }
   ],
   "source": [
    "desvio_padrao_price = price_coluna.std()\n",
    "desvio_padrao_price"
   ]
  },
  {
   "cell_type": "markdown",
   "id": "f1771854",
   "metadata": {},
   "source": [
    "# Gráfico Boxplot da coluna \"PRICE\""
   ]
  },
  {
   "cell_type": "code",
   "execution_count": 161,
   "id": "d4a4281f",
   "metadata": {},
   "outputs": [
    {
     "data": {
      "image/png": "[encoded data removed]",
      "text/plain": [
       "<Figure size 640x480 with 1 Axes>"
      ]
     },
     "metadata": {},
     "output_type": "display_data"
    }
   ],
   "source": [
    "boxplot_price = df.boxplot(column =['PRICE'])\n",
    "plt.show()"
   ]
  },
  {
   "cell_type": "markdown",
   "id": "831e1356",
   "metadata": {},
   "source": [
    "# Média dos valores da coluna \"LINENETTOTAL\""
   ]
  },
  {
   "cell_type": "code",
   "execution_count": 282,
   "id": "45ca8837",
   "metadata": {},
   "outputs": [
    {
     "data": {
      "text/plain": [
       "4.055741204077189"
      ]
     },
     "execution_count": 282,
     "metadata": {},
     "output_type": "execute_result"
    }
   ],
   "source": [
    "media_LINENETTOTAL = df['LINENETTOTAL'].mean()\n",
    "media_LINENETTOTAL"
   ]
  },
  {
   "cell_type": "markdown",
   "id": "c3a6e52a",
   "metadata": {},
   "source": [
    "# Mediana dos valores da coluna \"LINENETTOTAL\""
   ]
  },
  {
   "cell_type": "code",
   "execution_count": 283,
   "id": "ea91af6a",
   "metadata": {},
   "outputs": [
    {
     "data": {
      "text/plain": [
       "2.43"
      ]
     },
     "execution_count": 283,
     "metadata": {},
     "output_type": "execute_result"
    }
   ],
   "source": [
    "mediana_LINENETTOTAL = df['LINENETTOTAL'].median()\n",
    "mediana_LINENETTOTAL"
   ]
  },
  {
   "cell_type": "markdown",
   "id": "5f6d6c62",
   "metadata": {},
   "source": [
    "# Moda dos valores da coluna \"LINENETTOTAL\""
   ]
  },
  {
   "cell_type": "code",
   "execution_count": 284,
   "id": "7b18fa67",
   "metadata": {},
   "outputs": [
    {
     "data": {
      "text/plain": [
       "0    1.0\n",
       "Name: LINENETTOTAL, dtype: float64"
      ]
     },
     "execution_count": 284,
     "metadata": {},
     "output_type": "execute_result"
    }
   ],
   "source": [
    "moda_LINENETTOTAL = df['LINENETTOTAL'].mode()\n",
    "moda_LINENETTOTAL"
   ]
  },
  {
   "cell_type": "markdown",
   "id": "3a2ab1fd",
   "metadata": {},
   "source": [
    "# Variância dos valores da coluna \"LINENETTOTAL\""
   ]
  },
  {
   "cell_type": "code",
   "execution_count": 285,
   "id": "f55c5eb8",
   "metadata": {},
   "outputs": [
    {
     "data": {
      "text/plain": [
       "142.94750187110097"
      ]
     },
     "execution_count": 285,
     "metadata": {},
     "output_type": "execute_result"
    }
   ],
   "source": [
    "LINENETTOTAL_coluna = data['LINENETTOTAL']\n",
    "variancia_LINENETTOTAL = np.var(LINENETTOTAL_coluna)\n",
    "variancia_LINENETTOTAL"
   ]
  },
  {
   "cell_type": "markdown",
   "id": "bc7ce340",
   "metadata": {},
   "source": [
    "# Desvio Padrão dos valores da coluna \"LINENETTOTAL\""
   ]
  },
  {
   "cell_type": "code",
   "execution_count": 286,
   "id": "bd5c68db",
   "metadata": {},
   "outputs": [
    {
     "data": {
      "text/plain": [
       "11.956075266873798"
      ]
     },
     "execution_count": 286,
     "metadata": {},
     "output_type": "execute_result"
    }
   ],
   "source": [
    "desvio_padrao_LINENETTOTAL = LINENETTOTAL_coluna.std()\n",
    "desvio_padrao_LINENETTOTAL"
   ]
  },
  {
   "cell_type": "markdown",
   "id": "41c258a0",
   "metadata": {},
   "source": [
    "# Gráfico Boxplot da coluna \"LINENETTOTAL\""
   ]
  },
  {
   "cell_type": "code",
   "execution_count": 157,
   "id": "dd175b1b",
   "metadata": {},
   "outputs": [
    {
     "data": {
      "image/png": "[encoded data removed]",
      "text/plain": [
       "<Figure size 640x480 with 1 Axes>"
      ]
     },
     "metadata": {},
     "output_type": "display_data"
    }
   ],
   "source": [
    "boxplot_LINENETTOTAL = df.boxplot(column =['LINENETTOTAL'])\n",
    "plt.show()"
   ]
  },
  {
   "cell_type": "markdown",
   "id": "0af8ae06",
   "metadata": {},
   "source": [
    "# Média dos valores da coluna \"LINENET\""
   ]
  },
  {
   "cell_type": "code",
   "execution_count": 287,
   "id": "569a1d4a",
   "metadata": {},
   "outputs": [
    {
     "data": {
      "text/plain": [
       "3.7353451359581875"
      ]
     },
     "execution_count": 287,
     "metadata": {},
     "output_type": "execute_result"
    }
   ],
   "source": [
    "media_LINENET = df['LINENET'].mean()\n",
    "media_LINENET"
   ]
  },
  {
   "cell_type": "markdown",
   "id": "f40f35e1",
   "metadata": {},
   "source": [
    "# Mediana dos valores da coluna \"LINENET\""
   ]
  },
  {
   "cell_type": "code",
   "execution_count": 288,
   "id": "ac52aec4",
   "metadata": {},
   "outputs": [
    {
     "data": {
      "text/plain": [
       "2.22"
      ]
     },
     "execution_count": 288,
     "metadata": {},
     "output_type": "execute_result"
    }
   ],
   "source": [
    "mediana_LINENET = df['LINENET'].median()\n",
    "mediana_LINENET"
   ]
  },
  {
   "cell_type": "markdown",
   "id": "4adf4c56",
   "metadata": {},
   "source": [
    "# Moda dos valores da coluna \"LINENET\""
   ]
  },
  {
   "cell_type": "code",
   "execution_count": 289,
   "id": "3cbf0164",
   "metadata": {},
   "outputs": [
    {
     "data": {
      "text/plain": [
       "0    0.93\n",
       "Name: LINENET, dtype: float64"
      ]
     },
     "execution_count": 289,
     "metadata": {},
     "output_type": "execute_result"
    }
   ],
   "source": [
    "moda_LINENET = df['LINENET'].mode()\n",
    "moda_LINENET"
   ]
  },
  {
   "cell_type": "markdown",
   "id": "90aa602b",
   "metadata": {},
   "source": [
    "# Variância dos valores da coluna \"LINENET\""
   ]
  },
  {
   "cell_type": "code",
   "execution_count": 290,
   "id": "9162927f",
   "metadata": {},
   "outputs": [
    {
     "data": {
      "text/plain": [
       "117.02198051418269"
      ]
     },
     "execution_count": 290,
     "metadata": {},
     "output_type": "execute_result"
    }
   ],
   "source": [
    "LINENET_coluna = data['LINENET']\n",
    "variancia_LINENET = np.var(LINENET_coluna)\n",
    "variancia_LINENET"
   ]
  },
  {
   "cell_type": "markdown",
   "id": "ed189cf5",
   "metadata": {},
   "source": [
    "# Desvio Padrão dos valores da coluna \"LINENET\""
   ]
  },
  {
   "cell_type": "code",
   "execution_count": 291,
   "id": "2615d4d0",
   "metadata": {},
   "outputs": [
    {
     "data": {
      "text/plain": [
       "10.817678679194433"
      ]
     },
     "execution_count": 291,
     "metadata": {},
     "output_type": "execute_result"
    }
   ],
   "source": [
    "desvio_padrao_LINENET = LINENET_coluna.std()\n",
    "desvio_padrao_LINENET"
   ]
  },
  {
   "cell_type": "markdown",
   "id": "7975ec10",
   "metadata": {},
   "source": [
    "# Gráfico Boxplot da coluna \"LINENET\""
   ]
  },
  {
   "cell_type": "code",
   "execution_count": 158,
   "id": "9aa8c0bc",
   "metadata": {},
   "outputs": [
    {
     "data": {
      "image/png": "[encoded data removed]",
      "text/plain": [
       "<Figure size 640x480 with 1 Axes>"
      ]
     },
     "metadata": {},
     "output_type": "display_data"
    }
   ],
   "source": [
    "boxplot_LINENET = df.boxplot(column =['LINENET'])\n",
    "plt.show()"
   ]
  },
  {
   "cell_type": "markdown",
   "id": "da3a28e0",
   "metadata": {},
   "source": [
    "# Moda dos valores da coluna \"ITEMNAME\""
   ]
  },
  {
   "cell_type": "markdown",
   "id": "6e3a8761",
   "metadata": {},
   "source": [
    "# PERGUNTA 1 - RESPOSTA:"
   ]
  },
  {
   "cell_type": "markdown",
   "id": "e8d3b2b0",
   "metadata": {},
   "source": [
    "## Qual o produto mais vendido pelo supermercado?"
   ]
  },
  {
   "cell_type": "code",
   "execution_count": 292,
   "id": "61b95d5c",
   "metadata": {},
   "outputs": [
    {
     "data": {
      "text/plain": [
       "0    EKMEK 250 GR\n",
       "Name: ITEMNAME, dtype: object"
      ]
     },
     "execution_count": 292,
     "metadata": {},
     "output_type": "execute_result"
    }
   ],
   "source": [
    "# Aqui estar comprovado qual é o item/produto mais vendido que é \"Pão\" traduzido da palavra turca \"EKMEK\".\n",
    "moda_ITEMNAME = df['ITEMNAME'].mode()\n",
    "moda_ITEMNAME"
   ]
  },
  {
   "cell_type": "markdown",
   "id": "d82bd26f",
   "metadata": {},
   "source": [
    "# Moda dos valores da coluna \"DATE\""
   ]
  },
  {
   "cell_type": "code",
   "execution_count": 293,
   "id": "25f4e45b",
   "metadata": {},
   "outputs": [
    {
     "data": {
      "text/plain": [
       "0   2017-01-17\n",
       "Name: DATE, dtype: datetime64[ns]"
      ]
     },
     "execution_count": 293,
     "metadata": {},
     "output_type": "execute_result"
    }
   ],
   "source": [
    "# Aqui estar comprovado qual é a data onde ocorreu mais vendas no dataset, ou seja, a data que mais aparece.\n",
    "moda_DATE = df['DATE'].mode()\n",
    "moda_DATE"
   ]
  },
  {
   "cell_type": "markdown",
   "id": "779903e7",
   "metadata": {},
   "source": [
    "# Moda dos valores da coluna \"FILIAL\""
   ]
  },
  {
   "cell_type": "code",
   "execution_count": 294,
   "id": "aa5b2e6b",
   "metadata": {},
   "outputs": [
    {
     "data": {
      "text/plain": [
       "0    İstanbul Subesi\n",
       "Name: FILIAL, dtype: object"
      ]
     },
     "execution_count": 294,
     "metadata": {},
     "output_type": "execute_result"
    }
   ],
   "source": [
    "# Aqui estar comprovado qual é a filial do supermercado turco que mais vendeu, pois é a que mais aparece no\n",
    "# dataset e que se chama Filial de Istambul traduzido do turco: İstanbul Subesi.\n",
    "moda_FILIAL = df['FILIAL'].mode()\n",
    "moda_FILIAL"
   ]
  },
  {
   "cell_type": "markdown",
   "id": "8807490c",
   "metadata": {},
   "source": [
    "# Moda dos valores da coluna \"VENDEDOR\""
   ]
  },
  {
   "cell_type": "code",
   "execution_count": 295,
   "id": "0c5d8a21",
   "metadata": {},
   "outputs": [
    {
     "data": {
      "text/plain": [
       "0    Yunus Emre AVUZ\n",
       "Name: VENDEDOR, dtype: object"
      ]
     },
     "execution_count": 295,
     "metadata": {},
     "output_type": "execute_result"
    }
   ],
   "source": [
    "# Aqui estar comprovado qual é o vendedor que mais vendeu no supermercado turco que se chama \"Yunus Emre AVUZ\",\n",
    "# pois é o vendedor que mais\n",
    "# aparece no dataset, já que a cada venda feita dele, gera uma linha no dataset.\n",
    "\n",
    "#  VERIFICAR SE O VENDEDOR QUE MAIS VENDEU, TAMBEM PERTENCE A FILIAL QUE MAIS VENDEU, A CIDADE QUE MAIS VENDEU\n",
    "# A REGIAO QUE MAIS VENDEU, SE ESTA VINCULADO AO CLIENTE QUE MAIS COMPROU, A MARCA QUE MAIS VENDEU, AS\n",
    "# CATEGORIAS, SE ESTA VINCULADO MAIS PARA HOMENS OU MULHERES, SE ELE VENDEU TAMBEM NA DATA QUE MAIS VENDEU E NO\n",
    "# HORARIO QUE MAIS VENDEU, SE ESTA VINCULADO AO ITEM QUE MAIS VENDEU, A QUANTIDADE MAIS VENDIDA TAMBEM E SE \n",
    "# FOI ELE QUE FEZ AS VENDAS DE MAIORES PREÇOS.\n",
    "moda_VENDEDOR = df['VENDEDOR'].mode()\n",
    "moda_VENDEDOR"
   ]
  },
  {
   "cell_type": "markdown",
   "id": "7c68a785",
   "metadata": {},
   "source": [
    "# Moda dos valores da coluna \"CITY\""
   ]
  },
  {
   "cell_type": "code",
   "execution_count": 296,
   "id": "4359fb9f",
   "metadata": {},
   "outputs": [
    {
     "data": {
      "text/plain": [
       "0    İstanbul\n",
       "Name: CITY, dtype: object"
      ]
     },
     "execution_count": 296,
     "metadata": {},
     "output_type": "execute_result"
    }
   ],
   "source": [
    "# Aqui estar comprovado qual a cidade em que o supermercado turco mais vendeu e ela se chama \"İstanbul\" e\n",
    "# também percebe-se que a filial que mais vendeu (Filial de Istambul - İstanbul Subesi), se encontra na cidade\n",
    "# que mais vendeu.\n",
    "moda_CITY = df['CITY'].mode()\n",
    "moda_CITY"
   ]
  },
  {
   "cell_type": "markdown",
   "id": "7902e2f0",
   "metadata": {},
   "source": [
    "# Moda dos valores da coluna \"REGION\""
   ]
  },
  {
   "cell_type": "code",
   "execution_count": 297,
   "id": "ebc507a0",
   "metadata": {},
   "outputs": [
    {
     "data": {
      "text/plain": [
       "0    Marmara\n",
       "Name: REGION, dtype: object"
      ]
     },
     "execution_count": 297,
     "metadata": {},
     "output_type": "execute_result"
    }
   ],
   "source": [
    "# Aqui estar comprovado qual a região onde o supermercado turco mais vendeu que se chama \"Marmara\".\n",
    "moda_REGION = df['REGION'].mode()\n",
    "moda_REGION"
   ]
  },
  {
   "cell_type": "markdown",
   "id": "03450da8",
   "metadata": {},
   "source": [
    "# Moda dos valores da coluna \"CLIENTNAME\""
   ]
  },
  {
   "cell_type": "code",
   "execution_count": 298,
   "id": "1eeb7df6",
   "metadata": {},
   "outputs": [
    {
     "data": {
      "text/plain": [
       "0    Nihat ÖNAL\n",
       "Name: CLIENTNAME, dtype: object"
      ]
     },
     "execution_count": 298,
     "metadata": {},
     "output_type": "execute_result"
    }
   ],
   "source": [
    "# Aqui estar comprovado qual o cliente que mais comprou no supermercado turco que tem o nome \"Nihat ÖNAL\", pois\n",
    "#  é o nome que mais aparece em linhas de vendas do dataset.\n",
    "moda_CLIENTNAME = df['CLIENTNAME'].mode()\n",
    "moda_CLIENTNAME"
   ]
  },
  {
   "cell_type": "markdown",
   "id": "45887b16",
   "metadata": {},
   "source": [
    "# Moda dos valores da coluna \"MARCA\""
   ]
  },
  {
   "cell_type": "code",
   "execution_count": 299,
   "id": "a6383933",
   "metadata": {},
   "outputs": [
    {
     "data": {
      "text/plain": [
       "0    HAL\n",
       "Name: MARCA, dtype: object"
      ]
     },
     "execution_count": 299,
     "metadata": {},
     "output_type": "execute_result"
    }
   ],
   "source": [
    "# Aqui estar comprovado qual a marca de produtos que é mais vendida no supermercado turco que se chama \"HAL\".\n",
    "moda_MARCA = df['MARCA'].mode()\n",
    "moda_MARCA"
   ]
  },
  {
   "cell_type": "markdown",
   "id": "37032e0e",
   "metadata": {},
   "source": [
    "# Moda dos valores da coluna \"CATEGORY_NAME1\""
   ]
  },
  {
   "cell_type": "code",
   "execution_count": 300,
   "id": "1bea3137",
   "metadata": {},
   "outputs": [
    {
     "data": {
      "text/plain": [
       "0    CASA\n",
       "Name: CATEGORY_NAME1, dtype: object"
      ]
     },
     "execution_count": 300,
     "metadata": {},
     "output_type": "execute_result"
    }
   ],
   "source": [
    "# Aqui estar comprovado qual a categoria de nome1/tipo1 onde ocorreu mais vendas no supermercado que é a\n",
    "# categoria casa.\n",
    "moda_CATEGORY_NAME1 = df['CATEGORY_NAME1'].mode()\n",
    "moda_CATEGORY_NAME1"
   ]
  },
  {
   "cell_type": "markdown",
   "id": "57a3ccff",
   "metadata": {},
   "source": [
    "# Moda dos valores da coluna \"CATEGORY_NAME2\""
   ]
  },
  {
   "cell_type": "code",
   "execution_count": 301,
   "id": "4c7ec84f",
   "metadata": {},
   "outputs": [
    {
     "data": {
      "text/plain": [
       "0    BISCOITOS\n",
       "Name: CATEGORY_NAME2, dtype: object"
      ]
     },
     "execution_count": 301,
     "metadata": {},
     "output_type": "execute_result"
    }
   ],
   "source": [
    "# Aqui estar comprovado qual a categoria de nome2/tipo2 onde ocorreu mais vendas no supermercado que é a\n",
    "# categoria biscoitos.\n",
    "moda_CATEGORY_NAME2 = df['CATEGORY_NAME2'].mode()\n",
    "moda_CATEGORY_NAME2"
   ]
  },
  {
   "cell_type": "markdown",
   "id": "95222bf9",
   "metadata": {},
   "source": [
    "# Moda dos valores da coluna \"STARTDATE\""
   ]
  },
  {
   "cell_type": "code",
   "execution_count": 302,
   "id": "630fd8dc",
   "metadata": {},
   "outputs": [
    {
     "data": {
      "text/plain": [
       "0   2017-01-17 16:42:35\n",
       "Name: STARTDATE, dtype: datetime64[ns]"
      ]
     },
     "execution_count": 302,
     "metadata": {},
     "output_type": "execute_result"
    }
   ],
   "source": [
    "# Aqui estar comprovado qual o horário onde ocorreu mais vendas no supermercado que foi as quatro horas e \n",
    "# quarenta e dois minutos que por coincidencia também foi na data mais vendida pelo supermercado, é possível\n",
    "# analisar o horário nesta coluna, pois na coluna date tem apenas as datas, já nas colunas STARTDATE E ENDDATE\n",
    "# temos as datas e os horários juntamente.\n",
    "moda_STARTDATE = df['STARTDATE'].mode()\n",
    "moda_STARTDATE"
   ]
  },
  {
   "cell_type": "markdown",
   "id": "b814356a",
   "metadata": {},
   "source": [
    "# Moda dos valores da coluna \"GENDER\""
   ]
  },
  {
   "cell_type": "markdown",
   "id": "7bac43a9",
   "metadata": {},
   "source": [
    "# PERGUNTA 2 - RESPOSTA:"
   ]
  },
  {
   "cell_type": "markdown",
   "id": "7da371fc",
   "metadata": {},
   "source": [
    "## São os homens ou as mulheres que mais compram no supermercado?"
   ]
  },
  {
   "cell_type": "code",
   "execution_count": 303,
   "id": "e0cc7d08",
   "metadata": {},
   "outputs": [
    {
     "data": {
      "text/plain": [
       "0    K\n",
       "Name: GENDER, dtype: object"
      ]
     },
     "execution_count": 303,
     "metadata": {},
     "output_type": "execute_result"
    }
   ],
   "source": [
    "# OBSERVAÇÃO: COLUNA GENDER - E: HOMEM/HOMENS, K: MULHER/MULHERES, pois homem em turco se chama \"erkekler\".\n",
    "# Aqui estar comprovado que são as mulheres que mais compram no supermercado turco, pois a letra \"K\" se refere\n",
    "# as mulheres no dataset e é genero que mais se encontra nos dados.\n",
    "moda_GENDER = df['GENDER'].mode()\n",
    "moda_GENDER"
   ]
  },
  {
   "cell_type": "markdown",
   "id": "ee2cb36a",
   "metadata": {},
   "source": [
    "# Moda dos valores da coluna \"CATEGORY_NAME3\""
   ]
  },
  {
   "cell_type": "code",
   "execution_count": 304,
   "id": "609bc8eb",
   "metadata": {},
   "outputs": [
    {
     "data": {
      "text/plain": [
       "0    BISCOITOS\n",
       "Name: CATEGORY_NAME3, dtype: object"
      ]
     },
     "execution_count": 304,
     "metadata": {},
     "output_type": "execute_result"
    }
   ],
   "source": [
    "# Aqui estar comprovado qual a categoria de nome3/tipo3 onde ocorreu mais vendas no supermercado que é a\n",
    "# categoria biscoitos por coincidencia também, pois as palavras são sinonimos.\n",
    "moda_CATEGORY_NAME3 = df['CATEGORY_NAME3'].mode()\n",
    "moda_CATEGORY_NAME3"
   ]
  },
  {
   "cell_type": "markdown",
   "id": "c9ad15ce",
   "metadata": {},
   "source": [
    "# Visualização dos Dados"
   ]
  },
  {
   "cell_type": "code",
   "execution_count": 314,
   "id": "c6b1d18b",
   "metadata": {},
   "outputs": [],
   "source": [
    "data_minimal = pd.read_csv('MarketSales.csv', parse_dates=date_cols, dtype={'CLIENTCODE': 'str'}, nrows=350000)\n",
    "data_minimal.rename(columns={'AMOUNT': 'QUANTIDADE', 'BRANCHNR': 'FILIALNR', 'DATE_': 'DATE',\n",
    "'BRANCH': 'FILIAL', 'SALESMAN': 'VENDEDOR', 'BRANDCODE': 'MARCA_CODE', 'BRAND': 'MARCA'}, inplace = True)\n",
    "# Traduzindo algumas linhas das colunas CATEGORY_NAME1, CATEGORY_NAME2 e CATEGORY_NAME3 para o melhor\n",
    "# entendimento do dataset.\n",
    "data_minimal['CATEGORY_NAME1'] = data_minimal['CATEGORY_NAME1'].map({'GIDA':'CASA',\n",
    "                             'MEYVE SEBZE':'FRUTAS E VEGETAIS',\n",
    "                             'SÜT KAHVALTILIK':'LEITE CAFÉ DA MANHÃ',\n",
    "                             'İÇECEK':'BEBER',\n",
    "                             'DETERJAN TEMİZLİK':'DETERGENTE DE LIMPEZA',\n",
    "                             'KAĞIT':'PAPEL',\n",
    "                             'KOZMETİK':'COSMÉTICO',\n",
    "                             'SİGARA':'CIGARRO',\n",
    "                             'EV':'LAR',\n",
    "                             'BEBEK':'BEBÊ',\n",
    "                             'EV':'LAR',\n",
    "                             'PET':'PETs'})\n",
    "\n",
    "data_minimal['CATEGORY_NAME2']= data_minimal['CATEGORY_NAME2'].replace(['BÜSKİVİ ÇEREZ','SEBZE','ÇİKOLATA GOFRET',\n",
    "'ÇAY KAHVE',\n",
    "'UNLU MAMÜLLER',\n",
    "'TERLİK',\n",
    "'KEDİ MAMALARI',\n",
    "'KUŞ MAMALARI',\n",
    "'KÖPEK MAMALARI',\n",
    "'YÜZ BAKIMI',\n",
    "'MEYVE',\n",
    "'BAKLİYAT',\n",
    "'PEYNİR',\n",
    "'SÜT',\n",
    "'MAKARNA',\n",
    "'SU MADENSUYU',\n",
    "'HAZIR YEMEKLER',\n",
    "'GAZSIZ İÇECEK',\n",
    "'KAHVALTILIK',\n",
    "'TEREYAĞ MARGARİN',\n",
    "'MUTFAK EŞYA GEREÇLERİ',\n",
    "'YOĞURT',\n",
    "'YUMURTA'],['BISCOITOS','VEGETAL','BOLACHA DE CHOCOLATE',\n",
    "'CHÁ CAFÉ',\n",
    "'PRODUTOS DE CONFEITARIA',\n",
    "'CHINELO',\n",
    "'ALIMENTOS PARA GATOS',\n",
    "'ALIMENTOS PARA PÁSSAROS',\n",
    "'ALIMENTOS PARA CÃES',\n",
    "'CUIDADOS COM O ROSTO',\n",
    "'FRUTA',\n",
    "'LEGUMES',\n",
    "'QUEIJO',\n",
    "'LEITE',\n",
    "'MASSA',\n",
    "'Agua Mineral',\n",
    "'COMIDA PRONTA',\n",
    "'refrigerante',\n",
    "'CAFÉ DA MANHÃ',\n",
    "'MANTEIGA MARGARINA',\n",
    "'EQUIPAMENTO DE COZINHA',\n",
    "'IOGURTE',\n",
    "'OVOS'])\n",
    "\n",
    "data_minimal['CATEGORY_NAME3']= data_minimal['CATEGORY_NAME3'].replace(['BÜSKİVİ','AÇIK BAKLİYAT','EKMEK',\n",
    "'PASTÖRİZE SÜT',\n",
    "'MAKARNA',\n",
    "'MAKYAJ PAMUK',\n",
    "'YEŞİL ZEYTİN',\n",
    "'LOSYON VE SÜTLER',\n",
    "'LOSYON SÜTLER',\n",
    "'YÜZ TEMİZLEME ÜRÜNLERİ',\n",
    "'SU',\n",
    "'KURUYEMİŞ',\n",
    "'KEK',\n",
    "'KAHVE',\n",
    "'SEKER TATLANDIRICI',\n",
    "'ÇAY',\n",
    "'MEYVE SUYU',\n",
    "'BEYAZ PEYNİR',\n",
    "'YOĞURTLAR',\n",
    "'COLA',\n",
    "'MARGARİNLER',\n",
    "'CİPS',\n",
    "'PİLİÇ'],['BISCOITOS','VEGETAL','BOLACHA DE CHOCOLATE',\n",
    "'CHÁ CAFÉ',\n",
    "'PRODUTOS DE CONFEITARIA',\n",
    "'CHINELO',\n",
    "'ALIMENTOS PARA GATOS',\n",
    "'ALIMENTOS PARA PÁSSAROS',\n",
    "'ALIMENTOS PARA CÃES',\n",
    "'CUIDADOS COM O ROSTO',\n",
    "'FRUTA',\n",
    "'LEGUMES',\n",
    "'QUEIJO',\n",
    "'LEITE',\n",
    "'MASSA',\n",
    "'Agua Mineral',\n",
    "'COMIDA PRONTA',\n",
    "'refrigerante',\n",
    "'CAFÉ DA MANHÃ',\n",
    "'MANTEIGA MARGARINA',\n",
    "'EQUIPAMENTO DE COZINHA',\n",
    "'IOGURTE',\n",
    "'OVOS'])"
   ]
  },
  {
   "cell_type": "code",
   "execution_count": 315,
   "id": "0e09cc7d",
   "metadata": {},
   "outputs": [],
   "source": [
    "data_minimal.to_csv(\"MarketSale_reduzido.csv\")"
   ]
  },
  {
   "cell_type": "markdown",
   "id": "0a8eb385",
   "metadata": {},
   "source": [
    "# Quantidade de produtos vendidos em diferentes linhas de produtos"
   ]
  },
  {
   "cell_type": "code",
   "execution_count": 224,
   "id": "0b90e9ba",
   "metadata": {},
   "outputs": [
    {
     "data": {
      "image/png": "[encoded data removed]",
      "text/plain": [
       "<Figure size 2100x1000 with 1 Axes>"
      ]
     },
     "metadata": {},
     "output_type": "display_data"
    }
   ],
   "source": [
    "barplot_CATEGORY_NAME1_quantidade = sns.barplot(data=data, x=\"CATEGORY_NAME1\", y=\"QUANTIDADE\")\n",
    "barplot_CATEGORY_NAME1_quantidade.figure.set_size_inches(21,10)\n",
    "plt.show()"
   ]
  },
  {
   "cell_type": "markdown",
   "id": "6b0382d5",
   "metadata": {},
   "source": [
    "# Quantidade de produtos vendidos em diferentes linhas de produtos, usando boxenplot"
   ]
  },
  {
   "cell_type": "code",
   "execution_count": 268,
   "id": "b7dc1a5c",
   "metadata": {},
   "outputs": [
    {
     "data": {
      "image/png": "[encoded data removed]",
      "text/plain": [
       "<Figure size 640x480 with 1 Axes>"
      ]
     },
     "metadata": {},
     "output_type": "display_data"
    }
   ],
   "source": [
    "boxenplot_CATEGORY_NAME1_quantidade = sns.boxenplot(x = \"QUANTIDADE\", y = \"CATEGORY_NAME1\", data = data)\n",
    "boxenplot_CATEGORY_NAME1_quantidade.set_title(label = \"Quantidade média de produtos vendidos\", fontsize = 25)\n",
    "boxenplot_CATEGORY_NAME1_quantidade.set_xlabel(xlabel = \"QUANTIDADE MÉDIA\",fontsize = 16)\n",
    "boxenplot_CATEGORY_NAME1_quantidade.set_ylabel(ylabel = \"CATEGORY_NAME1\", fontsize = 16)\n",
    "plt.show()"
   ]
  },
  {
   "cell_type": "markdown",
   "id": "bc72459f",
   "metadata": {},
   "source": [
    "# Contagem de vendas de produtos"
   ]
  },
  {
   "cell_type": "code",
   "execution_count": 263,
   "id": "4d5038a6",
   "metadata": {},
   "outputs": [
    {
     "data": {
      "image/png": "[encoded data removed]",
      "text/plain": [
       "<Figure size 1120x480 with 1 Axes>"
      ]
     },
     "metadata": {},
     "output_type": "display_data"
    }
   ],
   "source": [
    "plt.figure(figsize=(14,6))\n",
    "ax1 = sns.countplot(y='CATEGORY_NAME1', data=data, order = data['CATEGORY_NAME1'].value_counts().index)\n",
    "ax1.set_title(label = \"Contagem de vendas de produtos\", fontsize = 25)\n",
    "ax1.set_xlabel(xlabel = \"Contagem de vendas\", fontsize = 16)\n",
    "ax1.set_ylabel(ylabel= \"CATEGORY_NAME1\", fontsize = 16)\n",
    "plt.show()"
   ]
  },
  {
   "cell_type": "markdown",
   "id": "fdc95d66",
   "metadata": {},
   "source": [
    "# PERGUNTA 3 - RESPOSTA:"
   ]
  },
  {
   "cell_type": "markdown",
   "id": "49a546f3",
   "metadata": {},
   "source": [
    "## Existe algum período onde o supermercado mais vende?"
   ]
  },
  {
   "cell_type": "markdown",
   "id": "5976eeb2",
   "metadata": {},
   "source": [
    "# Vendas de produtos por hora"
   ]
  },
  {
   "cell_type": "code",
   "execution_count": 233,
   "id": "d5449a90",
   "metadata": {},
   "outputs": [
    {
     "data": {
      "image/png": "[encoded data removed]",
      "text/plain": [
       "<Figure size 1120x480 with 1 Axes>"
      ]
     },
     "metadata": {},
     "output_type": "display_data"
    }
   ],
   "source": [
    "data[\"STARTDATE\"]= pd.to_datetime(data[\"STARTDATE\"])\n",
    "data[\"Horas\"]= (data[\"STARTDATE\"]).dt.hour\n",
    "plt.figure(figsize=(14,6))\n",
    "plt.style.use('classic')\n",
    "SalesTime = sns.lineplot(x=\"Horas\", y =\"QUANTIDADE\", data = data).set_title(\"Vendas de produtos por hora\")\n",
    "plt.show()"
   ]
  },
  {
   "cell_type": "markdown",
   "id": "59ab2f5b",
   "metadata": {},
   "source": [
    "# PERGUNTA 2 - RESPOSTA:"
   ]
  },
  {
   "cell_type": "markdown",
   "id": "b5afa0b1",
   "metadata": {},
   "source": [
    "# Analisando se são as mulheres ou os homens que mais compram em quantidade."
   ]
  },
  {
   "cell_type": "code",
   "execution_count": 255,
   "id": "23342098",
   "metadata": {
    "scrolled": true
   },
   "outputs": [
    {
     "data": {
      "image/png": "[encoded data removed]",
      "text/plain": [
       "<Figure size 640x480 with 1 Axes>"
      ]
     },
     "metadata": {},
     "output_type": "display_data"
    }
   ],
   "source": [
    "barplot_gender_quantidade = sns.barplot(data=data, x=\"GENDER\", y=\"QUANTIDADE\")\n",
    "plt.show()barplot_gender_quantidade = sns.barplot(data=data, x=\"GENDER\", y=\"QUANTIDADE\")\n",
    "plt.show()"
   ]
  },
  {
   "cell_type": "markdown",
   "id": "478b47bf",
   "metadata": {},
   "source": [
    "# PERGUNTA 2 - RESPOSTA:"
   ]
  },
  {
   "cell_type": "markdown",
   "id": "39a439aa",
   "metadata": {},
   "source": [
    "# Analisando se são as mulheres ou os homens que mais gastam em relação ao preço dos produtos."
   ]
  },
  {
   "cell_type": "code",
   "execution_count": 256,
   "id": "ed4f456c",
   "metadata": {
    "scrolled": true
   },
   "outputs": [
    {
     "data": {
      "image/png": "[encoded data removed]",
      "text/plain": [
       "<Figure size 640x480 with 1 Axes>"
      ]
     },
     "metadata": {},
     "output_type": "display_data"
    }
   ],
   "source": [
    "barplot_gender_quantidade = sns.barplot(data=data, x=\"GENDER\", y=\"PRICE\")\n",
    "plt.show()"
   ]
  },
  {
   "cell_type": "markdown",
   "id": "345b7872",
   "metadata": {},
   "source": [
    "# Vendas de produtos com base no sexo"
   ]
  },
  {
   "cell_type": "code",
   "execution_count": 259,
   "id": "b892d179",
   "metadata": {},
   "outputs": [
    {
     "data": {
      "image/png": "[encoded data removed]",
      "text/plain": [
       "<Figure size 1120x480 with 1 Axes>"
      ]
     },
     "metadata": {},
     "output_type": "display_data"
    }
   ],
   "source": [
    "plt.style.use('classic')\n",
    "plt.figure(figsize = (14,6))\n",
    "ax= sns.stripplot(y= \"CATEGORY_NAME1\", x = \"QUANTIDADE\", hue = \"GENDER\", data = data)\n",
    "ax.set_title(label = \"Vendas de produtos com base no sexo\")\n",
    "ax.set_xlabel(xlabel = \"QUANTIDADE\")\n",
    "ax.set_ylabel(ylabel = \"CATEGORY_NAME1\")\n",
    "plt.show()"
   ]
  },
  {
   "cell_type": "markdown",
   "id": "f6e47d9b",
   "metadata": {},
   "source": [
    "# Correlação entre as variáveis \"PRICE\" e \"LINENETTOTAL\""
   ]
  },
  {
   "cell_type": "code",
   "execution_count": 272,
   "id": "849031fc",
   "metadata": {},
   "outputs": [
    {
     "data": {
      "image/png": "[encoded data removed]",
      "text/plain": [
       "<Figure size 640x480 with 1 Axes>"
      ]
     },
     "metadata": {},
     "output_type": "display_data"
    }
   ],
   "source": [
    "sns.scatterplot(data=data, x=\"LINENETTOTAL\", y=\"PRICE\")\n",
    "plt.show()"
   ]
  },
  {
   "cell_type": "code",
   "execution_count": 276,
   "id": "723022b1",
   "metadata": {},
   "outputs": [
    {
     "data": {
      "text/html": [
       "<div>\n",
       "<style scoped>\n",
       "    .dataframe tbody tr th:only-of-type {\n",
       "        vertical-align: middle;\n",
       "    }\n",
       "\n",
       "    .dataframe tbody tr th {\n",
       "        vertical-align: top;\n",
       "    }\n",
       "\n",
       "    .dataframe thead th {\n",
       "        text-align: right;\n",
       "    }\n",
       "</style>\n",
       "<table border=\"1\" class=\"dataframe\">\n",
       "  <thead>\n",
       "    <tr style=\"text-align: right;\">\n",
       "      <th></th>\n",
       "      <th>Unnamed: 0</th>\n",
       "      <th>ID</th>\n",
       "      <th>ITEMCODE</th>\n",
       "      <th>ITEMNAME</th>\n",
       "      <th>FICHENO</th>\n",
       "      <th>DATE</th>\n",
       "      <th>QUANTIDADE</th>\n",
       "      <th>PRICE</th>\n",
       "      <th>LINENETTOTAL</th>\n",
       "      <th>LINENET</th>\n",
       "      <th>...</th>\n",
       "      <th>CLIENTNAME</th>\n",
       "      <th>MARCA_CODE</th>\n",
       "      <th>MARCA</th>\n",
       "      <th>CATEGORY_NAME1</th>\n",
       "      <th>CATEGORY_NAME2</th>\n",
       "      <th>CATEGORY_NAME3</th>\n",
       "      <th>STARTDATE</th>\n",
       "      <th>ENDDATE</th>\n",
       "      <th>GENDER</th>\n",
       "      <th>Horas</th>\n",
       "    </tr>\n",
       "  </thead>\n",
       "  <tbody>\n",
       "    <tr>\n",
       "      <th>0</th>\n",
       "      <td>0</td>\n",
       "      <td>11738.0</td>\n",
       "      <td>5863.0</td>\n",
       "      <td>SPRITE 1 LT LIMON AROMALI GAZOZ</td>\n",
       "      <td>18456</td>\n",
       "      <td>2017-01-07</td>\n",
       "      <td>1.0</td>\n",
       "      <td>2.00</td>\n",
       "      <td>2.00</td>\n",
       "      <td>1.85</td>\n",
       "      <td>...</td>\n",
       "      <td>Sercan KIZILOK</td>\n",
       "      <td>156</td>\n",
       "      <td>SPRİTE</td>\n",
       "      <td>BEBER</td>\n",
       "      <td>GAZLI İÇECEK</td>\n",
       "      <td>GAZOZ</td>\n",
       "      <td>2017-01-07 16:16:11</td>\n",
       "      <td>2017-01-07 16:17:13</td>\n",
       "      <td>E</td>\n",
       "      <td>16</td>\n",
       "    </tr>\n",
       "    <tr>\n",
       "      <th>1</th>\n",
       "      <td>1</td>\n",
       "      <td>10537.0</td>\n",
       "      <td>8.0</td>\n",
       "      <td>TOZ SEKER</td>\n",
       "      <td>18105</td>\n",
       "      <td>2017-01-06</td>\n",
       "      <td>5.0</td>\n",
       "      <td>2.65</td>\n",
       "      <td>13.25</td>\n",
       "      <td>12.27</td>\n",
       "      <td>...</td>\n",
       "      <td>İsmet ŞINGIR</td>\n",
       "      <td>NaN</td>\n",
       "      <td>NaN</td>\n",
       "      <td>BEBER</td>\n",
       "      <td>CHÁ CAFÉ</td>\n",
       "      <td>MASSA</td>\n",
       "      <td>2017-01-06 11:04:34</td>\n",
       "      <td>2017-01-06 11:05:37</td>\n",
       "      <td>E</td>\n",
       "      <td>11</td>\n",
       "    </tr>\n",
       "    <tr>\n",
       "      <th>2</th>\n",
       "      <td>2</td>\n",
       "      <td>11335.0</td>\n",
       "      <td>5979.0</td>\n",
       "      <td>FALIM SAKIZ 5LI NANE</td>\n",
       "      <td>18350</td>\n",
       "      <td>2017-01-03</td>\n",
       "      <td>1.0</td>\n",
       "      <td>0.40</td>\n",
       "      <td>0.40</td>\n",
       "      <td>0.37</td>\n",
       "      <td>...</td>\n",
       "      <td>Yağız KUBAL</td>\n",
       "      <td>300</td>\n",
       "      <td>FALIM</td>\n",
       "      <td>CASA</td>\n",
       "      <td>SAKIZ SEKERLEME</td>\n",
       "      <td>SAKIZ</td>\n",
       "      <td>2017-01-03 14:00:03</td>\n",
       "      <td>2017-01-03 14:01:01</td>\n",
       "      <td>E</td>\n",
       "      <td>14</td>\n",
       "    </tr>\n",
       "    <tr>\n",
       "      <th>3</th>\n",
       "      <td>3</td>\n",
       "      <td>11336.0</td>\n",
       "      <td>5979.0</td>\n",
       "      <td>FALIM SAKIZ 5LI NANE</td>\n",
       "      <td>18350</td>\n",
       "      <td>2017-01-03</td>\n",
       "      <td>1.0</td>\n",
       "      <td>0.40</td>\n",
       "      <td>0.40</td>\n",
       "      <td>0.37</td>\n",
       "      <td>...</td>\n",
       "      <td>Yağız KUBAL</td>\n",
       "      <td>300</td>\n",
       "      <td>FALIM</td>\n",
       "      <td>CASA</td>\n",
       "      <td>SAKIZ SEKERLEME</td>\n",
       "      <td>SAKIZ</td>\n",
       "      <td>2017-01-03 14:00:03</td>\n",
       "      <td>2017-01-03 14:01:01</td>\n",
       "      <td>E</td>\n",
       "      <td>14</td>\n",
       "    </tr>\n",
       "    <tr>\n",
       "      <th>4</th>\n",
       "      <td>4</td>\n",
       "      <td>10115.0</td>\n",
       "      <td>12808.0</td>\n",
       "      <td>FALIM SAKIZ 5LI CILEK</td>\n",
       "      <td>18005</td>\n",
       "      <td>2017-01-05</td>\n",
       "      <td>1.0</td>\n",
       "      <td>0.40</td>\n",
       "      <td>0.40</td>\n",
       "      <td>0.37</td>\n",
       "      <td>...</td>\n",
       "      <td>Habibe AYSAN</td>\n",
       "      <td>300</td>\n",
       "      <td>FALIM</td>\n",
       "      <td>CASA</td>\n",
       "      <td>SAKIZ SEKERLEME</td>\n",
       "      <td>SAKIZ</td>\n",
       "      <td>2017-01-05 14:00:30</td>\n",
       "      <td>2017-01-05 14:01:03</td>\n",
       "      <td>K</td>\n",
       "      <td>14</td>\n",
       "    </tr>\n",
       "    <tr>\n",
       "      <th>...</th>\n",
       "      <td>...</td>\n",
       "      <td>...</td>\n",
       "      <td>...</td>\n",
       "      <td>...</td>\n",
       "      <td>...</td>\n",
       "      <td>...</td>\n",
       "      <td>...</td>\n",
       "      <td>...</td>\n",
       "      <td>...</td>\n",
       "      <td>...</td>\n",
       "      <td>...</td>\n",
       "      <td>...</td>\n",
       "      <td>...</td>\n",
       "      <td>...</td>\n",
       "      <td>...</td>\n",
       "      <td>...</td>\n",
       "      <td>...</td>\n",
       "      <td>...</td>\n",
       "      <td>...</td>\n",
       "      <td>...</td>\n",
       "      <td>...</td>\n",
       "    </tr>\n",
       "    <tr>\n",
       "      <th>611103</th>\n",
       "      <td>611103</td>\n",
       "      <td>511703.0</td>\n",
       "      <td>7.0</td>\n",
       "      <td>EKMEK 250 GR</td>\n",
       "      <td>134656</td>\n",
       "      <td>2017-03-18</td>\n",
       "      <td>1.0</td>\n",
       "      <td>0.90</td>\n",
       "      <td>0.90</td>\n",
       "      <td>0.89</td>\n",
       "      <td>...</td>\n",
       "      <td>Mahmut BAYATGİL</td>\n",
       "      <td>NaN</td>\n",
       "      <td>NaN</td>\n",
       "      <td>CASA</td>\n",
       "      <td>PRODUTOS DE CONFEITARIA</td>\n",
       "      <td>BOLACHA DE CHOCOLATE</td>\n",
       "      <td>2017-03-18 09:39:54</td>\n",
       "      <td>2017-03-18 09:40:50</td>\n",
       "      <td>E</td>\n",
       "      <td>9</td>\n",
       "    </tr>\n",
       "    <tr>\n",
       "      <th>611104</th>\n",
       "      <td>611104</td>\n",
       "      <td>511496.0</td>\n",
       "      <td>7.0</td>\n",
       "      <td>EKMEK 250 GR</td>\n",
       "      <td>134630</td>\n",
       "      <td>2017-03-18</td>\n",
       "      <td>1.0</td>\n",
       "      <td>0.90</td>\n",
       "      <td>0.90</td>\n",
       "      <td>0.89</td>\n",
       "      <td>...</td>\n",
       "      <td>Gamze BOTUÇ</td>\n",
       "      <td>NaN</td>\n",
       "      <td>NaN</td>\n",
       "      <td>CASA</td>\n",
       "      <td>PRODUTOS DE CONFEITARIA</td>\n",
       "      <td>BOLACHA DE CHOCOLATE</td>\n",
       "      <td>2017-03-18 20:30:58</td>\n",
       "      <td>2017-03-18 20:31:17</td>\n",
       "      <td>K</td>\n",
       "      <td>20</td>\n",
       "    </tr>\n",
       "    <tr>\n",
       "      <th>611105</th>\n",
       "      <td>611105</td>\n",
       "      <td>492612.0</td>\n",
       "      <td>7.0</td>\n",
       "      <td>EKMEK 250 GR</td>\n",
       "      <td>130100</td>\n",
       "      <td>2017-03-15</td>\n",
       "      <td>1.0</td>\n",
       "      <td>0.90</td>\n",
       "      <td>0.90</td>\n",
       "      <td>0.89</td>\n",
       "      <td>...</td>\n",
       "      <td>Cengiz BEREKETÇİ</td>\n",
       "      <td>NaN</td>\n",
       "      <td>NaN</td>\n",
       "      <td>CASA</td>\n",
       "      <td>PRODUTOS DE CONFEITARIA</td>\n",
       "      <td>BOLACHA DE CHOCOLATE</td>\n",
       "      <td>2017-03-15 17:51:04</td>\n",
       "      <td>2017-03-15 17:51:18</td>\n",
       "      <td>E</td>\n",
       "      <td>17</td>\n",
       "    </tr>\n",
       "    <tr>\n",
       "      <th>611106</th>\n",
       "      <td>611106</td>\n",
       "      <td>512343.0</td>\n",
       "      <td>7.0</td>\n",
       "      <td>EKMEK 250 GR</td>\n",
       "      <td>134762</td>\n",
       "      <td>2017-03-18</td>\n",
       "      <td>1.0</td>\n",
       "      <td>0.90</td>\n",
       "      <td>0.90</td>\n",
       "      <td>0.88</td>\n",
       "      <td>...</td>\n",
       "      <td>Elifnur EGİNKAYA</td>\n",
       "      <td>NaN</td>\n",
       "      <td>NaN</td>\n",
       "      <td>CASA</td>\n",
       "      <td>PRODUTOS DE CONFEITARIA</td>\n",
       "      <td>BOLACHA DE CHOCOLATE</td>\n",
       "      <td>2017-03-18 17:00:12</td>\n",
       "      <td>2017-03-18 17:01:20</td>\n",
       "      <td>K</td>\n",
       "      <td>17</td>\n",
       "    </tr>\n",
       "    <tr>\n",
       "      <th>611107</th>\n",
       "      <td>611107</td>\n",
       "      <td>512179.0</td>\n",
       "      <td>3942.0</td>\n",
       "      <td>ETI 80 GR KARAM BITTER</td>\n",
       "      <td>134738</td>\n",
       "      <td>2017-03-18</td>\n",
       "      <td>1.0</td>\n",
       "      <td>1.90</td>\n",
       "      <td>1.90</td>\n",
       "      <td>1.76</td>\n",
       "      <td>...</td>\n",
       "      <td>Hacer CANDEMİR</td>\n",
       "      <td>44</td>\n",
       "      <td>ETİ</td>\n",
       "      <td>CASA</td>\n",
       "      <td>BISCOITOS</td>\n",
       "      <td>BISCOITOS</td>\n",
       "      <td>2017-03-18 16:00:15</td>\n",
       "      <td>2017-03-18 16:00:37</td>\n",
       "      <td>K</td>\n",
       "      <td>16</td>\n",
       "    </tr>\n",
       "  </tbody>\n",
       "</table>\n",
       "<p>611108 rows × 28 columns</p>\n",
       "</div>"
      ],
      "text/plain": [
       "        Unnamed: 0        ID  ITEMCODE                         ITEMNAME  \\\n",
       "0                0   11738.0    5863.0  SPRITE 1 LT LIMON AROMALI GAZOZ   \n",
       "1                1   10537.0       8.0                        TOZ SEKER   \n",
       "2                2   11335.0    5979.0             FALIM SAKIZ 5LI NANE   \n",
       "3                3   11336.0    5979.0             FALIM SAKIZ 5LI NANE   \n",
       "4                4   10115.0   12808.0            FALIM SAKIZ 5LI CILEK   \n",
       "...            ...       ...       ...                              ...   \n",
       "611103      611103  511703.0       7.0                     EKMEK 250 GR   \n",
       "611104      611104  511496.0       7.0                     EKMEK 250 GR   \n",
       "611105      611105  492612.0       7.0                     EKMEK 250 GR   \n",
       "611106      611106  512343.0       7.0                     EKMEK 250 GR   \n",
       "611107      611107  512179.0    3942.0           ETI 80 GR KARAM BITTER   \n",
       "\n",
       "        FICHENO       DATE  QUANTIDADE  PRICE  LINENETTOTAL  LINENET  ...  \\\n",
       "0         18456 2017-01-07         1.0   2.00          2.00     1.85  ...   \n",
       "1         18105 2017-01-06         5.0   2.65         13.25    12.27  ...   \n",
       "2         18350 2017-01-03         1.0   0.40          0.40     0.37  ...   \n",
       "3         18350 2017-01-03         1.0   0.40          0.40     0.37  ...   \n",
       "4         18005 2017-01-05         1.0   0.40          0.40     0.37  ...   \n",
       "...         ...        ...         ...    ...           ...      ...  ...   \n",
       "611103   134656 2017-03-18         1.0   0.90          0.90     0.89  ...   \n",
       "611104   134630 2017-03-18         1.0   0.90          0.90     0.89  ...   \n",
       "611105   130100 2017-03-15         1.0   0.90          0.90     0.89  ...   \n",
       "611106   134762 2017-03-18         1.0   0.90          0.90     0.88  ...   \n",
       "611107   134738 2017-03-18         1.0   1.90          1.90     1.76  ...   \n",
       "\n",
       "              CLIENTNAME MARCA_CODE   MARCA CATEGORY_NAME1  \\\n",
       "0         Sercan KIZILOK        156  SPRİTE          BEBER   \n",
       "1           İsmet ŞINGIR        NaN     NaN          BEBER   \n",
       "2            Yağız KUBAL        300   FALIM           CASA   \n",
       "3            Yağız KUBAL        300   FALIM           CASA   \n",
       "4           Habibe AYSAN        300   FALIM           CASA   \n",
       "...                  ...        ...     ...            ...   \n",
       "611103   Mahmut BAYATGİL        NaN     NaN           CASA   \n",
       "611104       Gamze BOTUÇ        NaN     NaN           CASA   \n",
       "611105  Cengiz BEREKETÇİ        NaN     NaN           CASA   \n",
       "611106  Elifnur EGİNKAYA        NaN     NaN           CASA   \n",
       "611107    Hacer CANDEMİR         44     ETİ           CASA   \n",
       "\n",
       "                 CATEGORY_NAME2        CATEGORY_NAME3           STARTDATE  \\\n",
       "0                  GAZLI İÇECEK                 GAZOZ 2017-01-07 16:16:11   \n",
       "1                      CHÁ CAFÉ                 MASSA 2017-01-06 11:04:34   \n",
       "2               SAKIZ SEKERLEME                 SAKIZ 2017-01-03 14:00:03   \n",
       "3               SAKIZ SEKERLEME                 SAKIZ 2017-01-03 14:00:03   \n",
       "4               SAKIZ SEKERLEME                 SAKIZ 2017-01-05 14:00:30   \n",
       "...                         ...                   ...                 ...   \n",
       "611103  PRODUTOS DE CONFEITARIA  BOLACHA DE CHOCOLATE 2017-03-18 09:39:54   \n",
       "611104  PRODUTOS DE CONFEITARIA  BOLACHA DE CHOCOLATE 2017-03-18 20:30:58   \n",
       "611105  PRODUTOS DE CONFEITARIA  BOLACHA DE CHOCOLATE 2017-03-15 17:51:04   \n",
       "611106  PRODUTOS DE CONFEITARIA  BOLACHA DE CHOCOLATE 2017-03-18 17:00:12   \n",
       "611107                BISCOITOS             BISCOITOS 2017-03-18 16:00:15   \n",
       "\n",
       "                   ENDDATE GENDER Horas  \n",
       "0      2017-01-07 16:17:13      E    16  \n",
       "1      2017-01-06 11:05:37      E    11  \n",
       "2      2017-01-03 14:01:01      E    14  \n",
       "3      2017-01-03 14:01:01      E    14  \n",
       "4      2017-01-05 14:01:03      K    14  \n",
       "...                    ...    ...   ...  \n",
       "611103 2017-03-18 09:40:50      E     9  \n",
       "611104 2017-03-18 20:31:17      K    20  \n",
       "611105 2017-03-15 17:51:18      E    17  \n",
       "611106 2017-03-18 17:01:20      K    17  \n",
       "611107 2017-03-18 16:00:37      K    16  \n",
       "\n",
       "[611108 rows x 28 columns]"
      ]
     },
     "execution_count": 276,
     "metadata": {},
     "output_type": "execute_result"
    }
   ],
   "source": [
    "df"
   ]
  }
 ],
 "metadata": {
  "kernelspec": {
   "display_name": "Python 3 (ipykernel)",
   "language": "python",
   "name": "python3"
  },
  "language_info": {
   "codemirror_mode": {
    "name": "ipython",
    "version": 3
   },
   "file_extension": ".py",
   "mimetype": "text/x-python",
   "name": "python",
   "nbconvert_exporter": "python",
   "pygments_lexer": "ipython3",
   "version": "3.10.6"
  }
 },
 "nbformat": 4,
 "nbformat_minor": 5
}
